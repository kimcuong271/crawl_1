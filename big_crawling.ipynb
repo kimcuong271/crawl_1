{
 "cells": [
  {
   "cell_type": "code",
   "execution_count": 70,
   "id": "b0e0f3c2",
   "metadata": {},
   "outputs": [],
   "source": [
    "import requests\n",
    "import pandas as pd\n",
    "import time"
   ]
  },
  {
   "cell_type": "code",
   "execution_count": 5,
   "id": "72b74ba7",
   "metadata": {},
   "outputs": [],
   "source": [
    "headers = {\n",
    "    'User-Agent': 'Mozilla/5.0 (Windows NT 6.1; WOW64; rv:28.0) Gecko/20100101 Firefox/28.0',\n",
    "    'Accept': 'application/json, text/javascript, */*; q=0.01',\n",
    "    'Content-Type': 'application/x-www-form-urlencoded; charset=UTF-8'\n",
    "}"
   ]
  },
  {
   "cell_type": "code",
   "execution_count": 8,
   "id": "5cb1829c",
   "metadata": {},
   "outputs": [],
   "source": [
    "resp = requests.get('https://dev-mobileapp.bigc.vn/api/store/get-list-store?apiclientid=3693146&token=a09fcbfe4ec1edb8f3b2214076a3093d&sign=1f664a32aa64aa3f66fa44da534ef139',headers=headers)"
   ]
  },
  {
   "cell_type": "code",
   "execution_count": 15,
   "id": "2c0ba411",
   "metadata": {},
   "outputs": [],
   "source": [
    "store_data = pd.DataFrame(resp.json()['message'])"
   ]
  },
  {
   "cell_type": "code",
   "execution_count": 16,
   "id": "f9883d9f",
   "metadata": {},
   "outputs": [],
   "source": [
    "store_data.to_csv('bigc_store_data.csv')"
   ]
  },
  {
   "cell_type": "code",
   "execution_count": 36,
   "id": "3df96c05",
   "metadata": {},
   "outputs": [],
   "source": [
    "resp = requests.get('https://dev-mobileapp.bigc.vn/api/order2/ListCategory?apiclientid=3693146&token=a09fcbfe4ec1edb8f3b2214076a3093d&sign=1f664a32aa64aa3f66fa44da534ef139&page=2&store=108',headers=headers)"
   ]
  },
  {
   "cell_type": "code",
   "execution_count": 37,
   "id": "4b775bce",
   "metadata": {},
   "outputs": [],
   "source": [
    "category_info = pd.DataFrame(resp.json()['products'])"
   ]
  },
  {
   "cell_type": "code",
   "execution_count": 38,
   "id": "9082fe8b",
   "metadata": {},
   "outputs": [],
   "source": [
    "category_info.to_csv('bigc_category_data.csv',mode='a',header=None,encoding='utf-8-sig')"
   ]
  },
  {
   "cell_type": "code",
   "execution_count": 54,
   "id": "d8ffa464",
   "metadata": {},
   "outputs": [],
   "source": [
    "pay_load = {\"category\":7,\"hourDelivery\":0,\"page\":9,\"store\":108}\n",
    "resp = requests.post('https://dev-mobileapp.bigc.vn/api/order2/listProduct?apiclientid=3693146&token=a09fcbfe4ec1edb8f3b2214076a3093d&sign=1f664a32aa64aa3f66fa44da534ef139',headers=headers,data = pay_load)"
   ]
  },
  {
   "cell_type": "code",
   "execution_count": 62,
   "id": "2d8ccdb4",
   "metadata": {},
   "outputs": [
    {
     "data": {
      "text/plain": [
       "{'total_pages': 9, 'page_size': 15, 'current_page': 9}"
      ]
     },
     "execution_count": 62,
     "metadata": {},
     "output_type": "execute_result"
    }
   ],
   "source": [
    "resp.json()['pagination']"
   ]
  },
  {
   "cell_type": "code",
   "execution_count": 75,
   "id": "8ac770a9",
   "metadata": {},
   "outputs": [],
   "source": [
    "category_info = pd.read_csv('bigc_category_data.csv')"
   ]
  },
  {
   "cell_type": "code",
   "execution_count": 76,
   "id": "d708b08b",
   "metadata": {},
   "outputs": [],
   "source": [
    "store_id = 108\n",
    "cate_list = category_info['id']\n",
    "product = pd.DataFrame()\n",
    "for cate in cate_list:\n",
    "    start_page = 1\n",
    "    pay_load = {\"category\":int(cate),\"hourDelivery\":0,\"page\":start_page,\"store\":int(store_id)}\n",
    "    resp = requests.post('https://dev-mobileapp.bigc.vn/api/order2/listProduct?apiclientid=3693146&token=a09fcbfe4ec1edb8f3b2214076a3093d&sign=1f664a32aa64aa3f66fa44da534ef139',headers=headers,data = pay_load)\n",
    "    df_tmp = pd.DataFrame(resp.json()['products'])\n",
    "    last_page = resp.json()['pagination']['total_pages']\n",
    "    product = pd.concat([product,df_tmp])\n",
    "    if start_page < last_page:\n",
    "        start_page = start_page+1\n",
    "    try:\n",
    "        for next_page in range(start_page,last_page+1,1):\n",
    "            pay_load = {\"category\":int(cate),\"hourDelivery\":0,\"page\":next_page,\"store\":int(store_id)}\n",
    "            resp = requests.post('https://dev-mobileapp.bigc.vn/api/order2/listProduct?apiclientid=3693146&token=a09fcbfe4ec1edb8f3b2214076a3093d&sign=1f664a32aa64aa3f66fa44da534ef139',headers=headers,data = pay_load)\n",
    "            df_tmp = pd.DataFrame(resp.json()['products'])\n",
    "            product = pd.concat([product,df_tmp])\n",
    "    except:\n",
    "        print(f'error on {cate}, payload: {pay_load}')\n",
    "        time.sleep(5)\n",
    "        continue\n",
    "product.to_csv('big_product.csv',encoding='utf-8-sig')"
   ]
  },
  {
   "cell_type": "code",
   "execution_count": 74,
   "id": "90ead6e3",
   "metadata": {},
   "outputs": [
    {
     "data": {
      "text/html": [
       "<div>\n",
       "<style scoped>\n",
       "    .dataframe tbody tr th:only-of-type {\n",
       "        vertical-align: middle;\n",
       "    }\n",
       "\n",
       "    .dataframe tbody tr th {\n",
       "        vertical-align: top;\n",
       "    }\n",
       "\n",
       "    .dataframe thead th {\n",
       "        text-align: right;\n",
       "    }\n",
       "</style>\n",
       "<table border=\"1\" class=\"dataframe\">\n",
       "  <thead>\n",
       "    <tr style=\"text-align: right;\">\n",
       "      <th></th>\n",
       "      <th>id</th>\n",
       "      <th>reference_id</th>\n",
       "      <th>name</th>\n",
       "      <th>thumbnail</th>\n",
       "      <th>thumbnail_tops</th>\n",
       "      <th>bag</th>\n",
       "    </tr>\n",
       "  </thead>\n",
       "  <tbody>\n",
       "    <tr>\n",
       "      <th>0</th>\n",
       "      <td>21</td>\n",
       "      <td>18</td>\n",
       "      <td>Chăm Sóc Cá nhân</td>\n",
       "      <td>https://cdn.go-vietnam.vn/thumb/240x240/catego...</td>\n",
       "      <td></td>\n",
       "      <td></td>\n",
       "    </tr>\n",
       "    <tr>\n",
       "      <th>1</th>\n",
       "      <td>22</td>\n",
       "      <td>19</td>\n",
       "      <td>Mỹ Phẩm</td>\n",
       "      <td>https://cdn.go-vietnam.vn/thumb/240x240/catego...</td>\n",
       "      <td></td>\n",
       "      <td></td>\n",
       "    </tr>\n",
       "    <tr>\n",
       "      <th>2</th>\n",
       "      <td>24</td>\n",
       "      <td>21</td>\n",
       "      <td>Hóa Phẩm &amp; Tẩy Rửa</td>\n",
       "      <td>https://cdn.go-vietnam.vn/thumb/240x240/catego...</td>\n",
       "      <td></td>\n",
       "      <td></td>\n",
       "    </tr>\n",
       "    <tr>\n",
       "      <th>3</th>\n",
       "      <td>44</td>\n",
       "      <td>42</td>\n",
       "      <td>Khăn, Giấy Vệ Sinh</td>\n",
       "      <td>https://cdn.go-vietnam.vn/thumb/240x240/catego...</td>\n",
       "      <td></td>\n",
       "      <td></td>\n",
       "    </tr>\n",
       "    <tr>\n",
       "      <th>4</th>\n",
       "      <td>49</td>\n",
       "      <td>50</td>\n",
       "      <td>Chăm Sóc Thú Cưng</td>\n",
       "      <td>https://cdn.go-vietnam.vn/thumb/240x240/catego...</td>\n",
       "      <td></td>\n",
       "      <td></td>\n",
       "    </tr>\n",
       "    <tr>\n",
       "      <th>5</th>\n",
       "      <td>38</td>\n",
       "      <td>33</td>\n",
       "      <td>Đồ Điện Gia Dụng</td>\n",
       "      <td>https://cdn.go-vietnam.vn/thumb/240x240/catego...</td>\n",
       "      <td></td>\n",
       "      <td></td>\n",
       "    </tr>\n",
       "    <tr>\n",
       "      <th>6</th>\n",
       "      <td>25</td>\n",
       "      <td>22</td>\n",
       "      <td>Đồ Dùng Gia Đình</td>\n",
       "      <td>https://cdn.go-vietnam.vn/thumb/240x240/catego...</td>\n",
       "      <td></td>\n",
       "      <td></td>\n",
       "    </tr>\n",
       "    <tr>\n",
       "      <th>7</th>\n",
       "      <td>9</td>\n",
       "      <td>6</td>\n",
       "      <td>Đồ Dùng Nhà Bếp</td>\n",
       "      <td>https://cdn.go-vietnam.vn/thumb/240x240/catego...</td>\n",
       "      <td></td>\n",
       "      <td></td>\n",
       "    </tr>\n",
       "    <tr>\n",
       "      <th>8</th>\n",
       "      <td>51</td>\n",
       "      <td>45</td>\n",
       "      <td>Thời Trang Nữ</td>\n",
       "      <td>https://cdn.go-vietnam.vn/thumb/240x240/catego...</td>\n",
       "      <td></td>\n",
       "      <td></td>\n",
       "    </tr>\n",
       "    <tr>\n",
       "      <th>9</th>\n",
       "      <td>52</td>\n",
       "      <td>46</td>\n",
       "      <td>Thời Trang Nam</td>\n",
       "      <td>https://cdn.go-vietnam.vn/thumb/240x240/catego...</td>\n",
       "      <td></td>\n",
       "      <td></td>\n",
       "    </tr>\n",
       "    <tr>\n",
       "      <th>10</th>\n",
       "      <td>53</td>\n",
       "      <td>47</td>\n",
       "      <td>Nội Y</td>\n",
       "      <td>https://cdn.go-vietnam.vn/thumb/240x240/catego...</td>\n",
       "      <td></td>\n",
       "      <td></td>\n",
       "    </tr>\n",
       "    <tr>\n",
       "      <th>11</th>\n",
       "      <td>54</td>\n",
       "      <td>48</td>\n",
       "      <td>Giày Dép &amp; Phụ Kiện</td>\n",
       "      <td>https://cdn.go-vietnam.vn/thumb/240x240/catego...</td>\n",
       "      <td></td>\n",
       "      <td></td>\n",
       "    </tr>\n",
       "  </tbody>\n",
       "</table>\n",
       "</div>"
      ],
      "text/plain": [
       "    id  reference_id                 name  \\\n",
       "0   21            18     Chăm Sóc Cá nhân   \n",
       "1   22            19              Mỹ Phẩm   \n",
       "2   24            21   Hóa Phẩm & Tẩy Rửa   \n",
       "3   44            42   Khăn, Giấy Vệ Sinh   \n",
       "4   49            50    Chăm Sóc Thú Cưng   \n",
       "5   38            33     Đồ Điện Gia Dụng   \n",
       "6   25            22     Đồ Dùng Gia Đình   \n",
       "7    9             6      Đồ Dùng Nhà Bếp   \n",
       "8   51            45        Thời Trang Nữ   \n",
       "9   52            46       Thời Trang Nam   \n",
       "10  53            47                Nội Y   \n",
       "11  54            48  Giày Dép & Phụ Kiện   \n",
       "\n",
       "                                            thumbnail thumbnail_tops bag  \n",
       "0   https://cdn.go-vietnam.vn/thumb/240x240/catego...                     \n",
       "1   https://cdn.go-vietnam.vn/thumb/240x240/catego...                     \n",
       "2   https://cdn.go-vietnam.vn/thumb/240x240/catego...                     \n",
       "3   https://cdn.go-vietnam.vn/thumb/240x240/catego...                     \n",
       "4   https://cdn.go-vietnam.vn/thumb/240x240/catego...                     \n",
       "5   https://cdn.go-vietnam.vn/thumb/240x240/catego...                     \n",
       "6   https://cdn.go-vietnam.vn/thumb/240x240/catego...                     \n",
       "7   https://cdn.go-vietnam.vn/thumb/240x240/catego...                     \n",
       "8   https://cdn.go-vietnam.vn/thumb/240x240/catego...                     \n",
       "9   https://cdn.go-vietnam.vn/thumb/240x240/catego...                     \n",
       "10  https://cdn.go-vietnam.vn/thumb/240x240/catego...                     \n",
       "11  https://cdn.go-vietnam.vn/thumb/240x240/catego...                     "
      ]
     },
     "execution_count": 74,
     "metadata": {},
     "output_type": "execute_result"
    }
   ],
   "source": [
    "category_info"
   ]
  },
  {
   "cell_type": "code",
   "execution_count": null,
   "id": "f1ab12f9",
   "metadata": {},
   "outputs": [],
   "source": []
  }
 ],
 "metadata": {
  "kernelspec": {
   "display_name": "Python 3 (ipykernel)",
   "language": "python",
   "name": "python3"
  },
  "language_info": {
   "codemirror_mode": {
    "name": "ipython",
    "version": 3
   },
   "file_extension": ".py",
   "mimetype": "text/x-python",
   "name": "python",
   "nbconvert_exporter": "python",
   "pygments_lexer": "ipython3",
   "version": "3.7.5"
  }
 },
 "nbformat": 4,
 "nbformat_minor": 5
}
