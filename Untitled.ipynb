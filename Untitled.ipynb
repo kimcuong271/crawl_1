{
 "cells": [
  {
   "cell_type": "code",
   "execution_count": 1,
   "id": "95d2d0b7",
   "metadata": {},
   "outputs": [],
   "source": [
    "list_data = []\n",
    "list_data.append([1,2,4])\n",
    "list_data.append([4,6,7])"
   ]
  },
  {
   "cell_type": "code",
   "execution_count": 2,
   "id": "730906ae",
   "metadata": {},
   "outputs": [
    {
     "data": {
      "text/plain": [
       "[[1, 2, 4], [4, 6, 7]]"
      ]
     },
     "execution_count": 2,
     "metadata": {},
     "output_type": "execute_result"
    }
   ],
   "source": [
    "list_data"
   ]
  },
  {
   "cell_type": "code",
   "execution_count": 4,
   "id": "a6a5e4ee",
   "metadata": {},
   "outputs": [
    {
     "data": {
      "text/plain": [
       "'11'"
      ]
     },
     "execution_count": 4,
     "metadata": {},
     "output_type": "execute_result"
    }
   ],
   "source": [
    "url = 'https://online.mmvietnam.com/danh-muc/mm-hiep-phu/thuc-pham-tuoi-song/page/11/'\n",
    "url.split('/')[-2]"
   ]
  },
  {
   "cell_type": "code",
   "execution_count": 13,
   "id": "08959720",
   "metadata": {},
   "outputs": [
    {
     "data": {
      "text/plain": [
       "'http://online.mmvietnam.com/danh-muc/mm-hiep-phu/thuc-pham-tuoi-song/12/'"
      ]
     },
     "execution_count": 13,
     "metadata": {},
     "output_type": "execute_result"
    }
   ],
   "source": [
    "\"http://\"+'/'.join(url.split('//')[-1].split('/')[:-3])+\"/\"+str(int(url.split('/')[-2])+1)+\"/\""
   ]
  },
  {
   "cell_type": "code",
   "execution_count": null,
   "id": "bfd4079e",
   "metadata": {},
   "outputs": [],
   "source": []
  }
 ],
 "metadata": {
  "kernelspec": {
   "display_name": "Python 3 (ipykernel)",
   "language": "python",
   "name": "python3"
  },
  "language_info": {
   "codemirror_mode": {
    "name": "ipython",
    "version": 3
   },
   "file_extension": ".py",
   "mimetype": "text/x-python",
   "name": "python",
   "nbconvert_exporter": "python",
   "pygments_lexer": "ipython3",
   "version": "3.7.5"
  }
 },
 "nbformat": 4,
 "nbformat_minor": 5
}
