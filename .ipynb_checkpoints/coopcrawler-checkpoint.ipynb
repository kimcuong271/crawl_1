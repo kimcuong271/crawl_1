{
 "cells": [
  {
   "cell_type": "code",
   "execution_count": 43,
   "id": "2d1db57c",
   "metadata": {},
   "outputs": [],
   "source": [
    "import requests\n",
    "import pandas as pd"
   ]
  },
  {
   "cell_type": "code",
   "execution_count": null,
   "id": "4000d3df",
   "metadata": {},
   "outputs": [],
   "source": [
    "headers = {\n",
    "    'User-Agent': 'Mozilla/5.0 (Windows NT 6.1; WOW64; rv:28.0) Gecko/20100101 Firefox/28.0',\n",
    "    'Accept': 'application/json, text/javascript, */*; q=0.01',\n",
    "    'Content-Type': 'application/x-www-form-urlencoded; charset=UTF-8',\n",
    "    'X-Requested-With': 'XMLHttpRequest'\n",
    "}\n",
    "s = requests.Session()"
   ]
  },
  {
   "cell_type": "code",
   "execution_count": 42,
   "id": "8e42fb86",
   "metadata": {},
   "outputs": [],
   "source": [
    "zone_dict  = {'Co.opXtra':1,'Co.opMart Khu Vực TPHCM':2,'Co.opMart Khu Vực Miền Trung':3,\n",
    "             'Co.opMart Khu Vực Miền Tây':4,'Co.opMart Khu Vực Miền Bắc':5,\n",
    "             'Co.opMart Khu Vực Đ.Nam Bộ':6,'Co.opMart KV Tây Nguyên':8,'Finelife Supermarket':7}"
   ]
  },
  {
   "cell_type": "code",
   "execution_count": 58,
   "id": "5607f74c",
   "metadata": {},
   "outputs": [
    {
     "name": "stdout",
     "output_type": "stream",
     "text": [
      "Co.opXtra\n",
      "Co.opMart Khu Vực TPHCM\n",
      "Co.opMart Khu Vực Miền Trung\n",
      "Co.opMart Khu Vực Miền Tây\n",
      "Co.opMart Khu Vực Miền Bắc\n",
      "Co.opMart Khu Vực Đ.Nam Bộ\n",
      "Co.opMart KV Tây Nguyên\n",
      "Finelife Supermarket\n"
     ]
    }
   ],
   "source": [
    "store_list = pd.DataFrame(columns=['zones','id', 'ten', 'group', 'short_ten', 'diachi', 'email', 'dienthoai', 'zone', 'image', 'open', 'Lat', 'Lng', 'quan', 'serviceRange', 'khuyenmai', 'mincart', 'giaohang', 'onsale', 'onepay', 'zalopay', 'bankaccount', 'messenger'])\n",
    "for i in zone_dict.keys():\n",
    "    print(i)\n",
    "    pay_load = f'request=w_load_stores&zone={zone_dict[i]}'\n",
    "    resp = s.post('https://cooponline.vn/ajax/',data=pay_load,headers=headers)\n",
    "    df_tmp = pd.DataFrame(resp.json())\n",
    "    df_tmp['zones'] = i \n",
    "    try:\n",
    "        df_tmp = df_tmp[['zones','id', 'ten', 'group', 'short_ten', 'diachi', 'email', 'dienthoai',\n",
    "           'zone', 'image', 'open', 'Lat', 'Lng', 'quan', 'serviceRange',\n",
    "           'khuyenmai', 'mincart', 'giaohang', 'onsale', 'onepay', 'zalopay',\n",
    "           'bankaccount', 'messenger']]\n",
    "    except:\n",
    "        missing_list = list(set(store_list.columns) - set(df_tmp.columns))\n",
    "        for item in missing_list:\n",
    "               df_tmp[item] = ''\n",
    "    store_list = pd.concat([store_list,df_tmp])"
   ]
  },
  {
   "cell_type": "code",
   "execution_count": 60,
   "id": "b14ca336",
   "metadata": {},
   "outputs": [],
   "source": [
    "store_list.to_csv('store_list.csv')"
   ]
  },
  {
   "cell_type": "code",
   "execution_count": 69,
   "id": "dd5a340a",
   "metadata": {},
   "outputs": [],
   "source": [
    "product_data = pd.DataFrame(columns=['unit', 'groups', 'created', 'sku', 'post_id', 'price', 'discount',\n",
    "       'promotion', 'position', 'date_begin', 'date_end', 'image', 'name',\n",
    "       'link', 'quantity', 'noteproduct', 'store'])\n",
    "max_page = 20\n",
    "store_id = 196\n",
    "for i in range(1,22,1):\n",
    "    pay_load = f'request=w_getProductsPage&trang={i}&store={store_id}&type=khuyenmai&groups=2'\n",
    "    resp = s.post('https://cooponline.vn/ajax/',data=pay_load,headers=headers)\n",
    "    df_tmp = pd.DataFrame(resp.json())\n",
    "    product_data = pd.concat([product_data,df_tmp])"
   ]
  },
  {
   "cell_type": "code",
   "execution_count": 79,
   "id": "1fb53202",
   "metadata": {},
   "outputs": [],
   "source": [
    "termid_dict = {'cong_nghe':4,'do_dung':6,'hoa_my_pham':5,'may_mac':7,'tuoi_song':15}\n",
    "store_id = 196\n",
    "for key in termid_dict.keys():\n",
    "    product_data = pd.DataFrame(columns=['unit', 'groups', 'created', 'sku', 'post_id', 'price', 'discount',\n",
    "           'promotion', 'position', 'date_begin', 'date_end', 'image', 'name',\n",
    "           'link', 'quantity', 'noteproduct', 'store'])\n",
    "    max_page = 40\n",
    "    for i in range(1,max_page,1):\n",
    "        pay_load = f'request=w_getProductsTaxonomy&termid={termid_dict[key]}&taxonomy=groups&store={store_id}&trang={i}&items=64'\n",
    "        resp = s.post('https://cooponline.vn/ajax/',data=pay_load,headers=headers)\n",
    "        df_tmp = pd.DataFrame(resp.json())\n",
    "        product_data = pd.concat([product_data,df_tmp])"
   ]
  },
  {
   "cell_type": "code",
   "execution_count": 53,
   "id": "7164426c",
   "metadata": {},
   "outputs": [],
   "source": [
    "\n",
    "pay_load = 'request=w_load_stores&zone=2'\n",
    "resp = s.post('https://cooponline.vn/ajax/',data=pay_load,headers=headers)\n"
   ]
  },
  {
   "cell_type": "code",
   "execution_count": 82,
   "id": "d59ad745",
   "metadata": {},
   "outputs": [],
   "source": [
    "pay_load = r'equest=w_getProductsTaxonomy&termid=4&taxonomy=groups&store=xphamvandong&trang=99&items=64'\n",
    "\n",
    "\n"
   ]
  },
  {
   "cell_type": "code",
   "execution_count": 72,
   "id": "89258cfd",
   "metadata": {},
   "outputs": [
    {
     "data": {
      "text/plain": [
       "200"
      ]
     },
     "execution_count": 72,
     "metadata": {},
     "output_type": "execute_result"
    }
   ],
   "source": [
    "resp.status_code"
   ]
  },
  {
   "cell_type": "code",
   "execution_count": 83,
   "id": "1dfd0089",
   "metadata": {},
   "outputs": [
    {
     "data": {
      "text/plain": [
       "'\\t[]'"
      ]
     },
     "execution_count": 83,
     "metadata": {},
     "output_type": "execute_result"
    }
   ],
   "source": [
    "resp.text"
   ]
  },
  {
   "cell_type": "code",
   "execution_count": 80,
   "id": "37b92965",
   "metadata": {},
   "outputs": [
    {
     "data": {
      "text/html": [
       "<div>\n",
       "<style scoped>\n",
       "    .dataframe tbody tr th:only-of-type {\n",
       "        vertical-align: middle;\n",
       "    }\n",
       "\n",
       "    .dataframe tbody tr th {\n",
       "        vertical-align: top;\n",
       "    }\n",
       "\n",
       "    .dataframe thead th {\n",
       "        text-align: right;\n",
       "    }\n",
       "</style>\n",
       "<table border=\"1\" class=\"dataframe\">\n",
       "  <thead>\n",
       "    <tr style=\"text-align: right;\">\n",
       "      <th></th>\n",
       "      <th>unit</th>\n",
       "      <th>groups</th>\n",
       "      <th>created</th>\n",
       "      <th>sku</th>\n",
       "      <th>post_id</th>\n",
       "      <th>price</th>\n",
       "      <th>discount</th>\n",
       "      <th>promotion</th>\n",
       "      <th>position</th>\n",
       "      <th>date_begin</th>\n",
       "      <th>date_end</th>\n",
       "      <th>image</th>\n",
       "      <th>name</th>\n",
       "      <th>link</th>\n",
       "      <th>quantity</th>\n",
       "      <th>noteproduct</th>\n",
       "      <th>store</th>\n",
       "    </tr>\n",
       "  </thead>\n",
       "  <tbody>\n",
       "  </tbody>\n",
       "</table>\n",
       "</div>"
      ],
      "text/plain": [
       "Empty DataFrame\n",
       "Columns: [unit, groups, created, sku, post_id, price, discount, promotion, position, date_begin, date_end, image, name, link, quantity, noteproduct, store]\n",
       "Index: []"
      ]
     },
     "execution_count": 80,
     "metadata": {},
     "output_type": "execute_result"
    }
   ],
   "source": [
    "product_data"
   ]
  },
  {
   "cell_type": "code",
   "execution_count": null,
   "id": "88fdaf2e",
   "metadata": {},
   "outputs": [],
   "source": []
  }
 ],
 "metadata": {
  "kernelspec": {
   "display_name": "Python 3 (ipykernel)",
   "language": "python",
   "name": "python3"
  },
  "language_info": {
   "codemirror_mode": {
    "name": "ipython",
    "version": 3
   },
   "file_extension": ".py",
   "mimetype": "text/x-python",
   "name": "python",
   "nbconvert_exporter": "python",
   "pygments_lexer": "ipython3",
   "version": "3.7.5"
  }
 },
 "nbformat": 4,
 "nbformat_minor": 5
}
