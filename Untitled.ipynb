{
 "cells": [
  {
   "cell_type": "code",
   "execution_count": 43,
   "id": "f24622fc",
   "metadata": {},
   "outputs": [],
   "source": [
    "import requests\n",
    "import pandas as pd"
   ]
  },
  {
   "cell_type": "code",
   "execution_count": null,
   "id": "3347f526",
   "metadata": {},
   "outputs": [],
   "source": [
    "headers = {\n",
    "    'User-Agent': 'Mozilla/5.0 (Windows NT 6.1; WOW64; rv:28.0) Gecko/20100101 Firefox/28.0',\n",
    "    'Accept': 'application/json, text/javascript, */*; q=0.01',\n",
    "    'Content-Type': 'application/x-www-form-urlencoded; charset=UTF-8',\n",
    "    'X-Requested-With': 'XMLHttpRequest'\n",
    "}\n",
    "s = requests.Session()"
   ]
  },
  {
   "cell_type": "code",
   "execution_count": 42,
   "id": "9a61755c",
   "metadata": {},
   "outputs": [],
   "source": [
    "zone_dict  = {'Co.opXtra':1,'Co.opMart Khu Vực TPHCM':2,'Co.opMart Khu Vực Miền Trung':3,\n",
    "             'Co.opMart Khu Vực Miền Tây':4,'Co.opMart Khu Vực Miền Bắc':5,\n",
    "             'Co.opMart Khu Vực Đ.Nam Bộ':6,'Co.opMart KV Tây Nguyên':8,'Finelife Supermarket':7}"
   ]
  },
  {
   "cell_type": "code",
   "execution_count": 58,
   "id": "19a7f8c4",
   "metadata": {},
   "outputs": [
    {
     "name": "stdout",
     "output_type": "stream",
     "text": [
      "Co.opXtra\n",
      "Co.opMart Khu Vực TPHCM\n",
      "Co.opMart Khu Vực Miền Trung\n",
      "Co.opMart Khu Vực Miền Tây\n",
      "Co.opMart Khu Vực Miền Bắc\n",
      "Co.opMart Khu Vực Đ.Nam Bộ\n",
      "Co.opMart KV Tây Nguyên\n",
      "Finelife Supermarket\n"
     ]
    }
   ],
   "source": [
    "store_list = pd.DataFrame(columns=['zones','id', 'ten', 'group', 'short_ten', 'diachi', 'email', 'dienthoai', 'zone', 'image', 'open', 'Lat', 'Lng', 'quan', 'serviceRange', 'khuyenmai', 'mincart', 'giaohang', 'onsale', 'onepay', 'zalopay', 'bankaccount', 'messenger'])\n",
    "for i in zone_dict.keys():\n",
    "    print(i)\n",
    "    pay_load = f'request=w_load_stores&zone={zone_dict[i]}'\n",
    "    resp = s.post('https://cooponline.vn/ajax/',data=pay_load,headers=headers)\n",
    "    df_tmp = pd.DataFrame(resp.json())\n",
    "    df_tmp['zones'] = i \n",
    "    try:\n",
    "        df_tmp = df_tmp[['zones','id', 'ten', 'group', 'short_ten', 'diachi', 'email', 'dienthoai',\n",
    "           'zone', 'image', 'open', 'Lat', 'Lng', 'quan', 'serviceRange',\n",
    "           'khuyenmai', 'mincart', 'giaohang', 'onsale', 'onepay', 'zalopay',\n",
    "           'bankaccount', 'messenger']]\n",
    "    except:\n",
    "        missing_list = list(set(store_list.columns) - set(df_tmp.columns))\n",
    "        for item in missing_list:\n",
    "               df_tmp[item] = ''\n",
    "    store_list = pd.concat([store_list,df_tmp])"
   ]
  },
  {
   "cell_type": "code",
   "execution_count": 60,
   "id": "599189bf",
   "metadata": {},
   "outputs": [],
   "source": [
    "store_list.to_csv('store_list.csv')"
   ]
  },
  {
   "cell_type": "code",
   "execution_count": 69,
   "id": "efec68c0",
   "metadata": {},
   "outputs": [],
   "source": [
    "product_data = pd.DataFrame(columns=['unit', 'groups', 'created', 'sku', 'post_id', 'price', 'discount',\n",
    "       'promotion', 'position', 'date_begin', 'date_end', 'image', 'name',\n",
    "       'link', 'quantity', 'noteproduct', 'store'])\n",
    "max_page = 20\n",
    "store_id = 196\n",
    "for i in range(1,22,1):\n",
    "    pay_load = f'request=w_getProductsPage&trang={i}&store={store_id}&type=khuyenmai&groups=2'\n",
    "    resp = s.post('https://cooponline.vn/ajax/',data=pay_load,headers=headers)\n",
    "    df_tmp = pd.DataFrame(resp.json())\n",
    "    product_data = pd.concat([product_data,df_tmp])"
   ]
  },
  {
   "cell_type": "code",
   "execution_count": 84,
   "id": "0122bcb9",
   "metadata": {},
   "outputs": [],
   "source": [
    "termid_dict = {'cong_nghe':4,'do_dung':6,'hoa_my_pham':5,'may_mac':7,'tuoi_song':15}\n",
    "store_id = 196\n",
    "product_data = pd.DataFrame(columns=['unit', 'groups', 'created', 'sku', 'post_id', 'price', 'discount',\n",
    "       'promotion', 'position', 'date_begin', 'date_end', 'image', 'name',\n",
    "       'link', 'quantity', 'noteproduct', 'store'])\n",
    "for key in termid_dict.keys():\n",
    "    max_page = 40\n",
    "    for i in range(1,max_page,1):\n",
    "        pay_load = f'request=w_getProductsTaxonomy&termid={termid_dict[key]}&taxonomy=groups&store={store_id}&trang={i}&items=64'\n",
    "        resp = s.post('https://cooponline.vn/ajax/',data=pay_load,headers=headers)\n",
    "        df_tmp = pd.DataFrame(resp.json())\n",
    "        product_data = pd.concat([product_data,df_tmp])"
   ]
  },
  {
   "cell_type": "code",
   "execution_count": 53,
   "id": "dc63704f",
   "metadata": {},
   "outputs": [],
   "source": [
    "\n",
    "pay_load = 'request=w_load_stores&zone=2'\n",
    "resp = s.post('https://cooponline.vn/ajax/',data=pay_load,headers=headers)\n"
   ]
  },
  {
   "cell_type": "code",
   "execution_count": 82,
   "id": "f9d2eb3c",
   "metadata": {},
   "outputs": [],
   "source": [
    "pay_load = r'equest=w_getProductsTaxonomy&termid=4&taxonomy=groups&store=xphamvandong&trang=99&items=64'\n",
    "\n",
    "\n"
   ]
  },
  {
   "cell_type": "code",
   "execution_count": 72,
   "id": "dff58e01",
   "metadata": {},
   "outputs": [
    {
     "data": {
      "text/plain": [
       "200"
      ]
     },
     "execution_count": 72,
     "metadata": {},
     "output_type": "execute_result"
    }
   ],
   "source": [
    "resp.status_code"
   ]
  },
  {
   "cell_type": "code",
   "execution_count": 83,
   "id": "ea50858c",
   "metadata": {},
   "outputs": [
    {
     "data": {
      "text/plain": [
       "'\\t[]'"
      ]
     },
     "execution_count": 83,
     "metadata": {},
     "output_type": "execute_result"
    }
   ],
   "source": [
    "resp.text"
   ]
  },
  {
   "cell_type": "code",
   "execution_count": 97,
   "id": "d483054c",
   "metadata": {},
   "outputs": [
    {
     "data": {
      "text/plain": [
       "{'xtanphong': 'Co.opXtra Tân Phong - Quận 7',\n",
       " 'xlinhtrung': 'Co.opXtra Linh Trung - Thủ Đức',\n",
       " 'xvanhanh': 'Co.opXtra Vạn Hạnh - Quận 10',\n",
       " 'xphamvandong': 'Co.opXtra Phạm Văn Đồng - Thủ Đức',\n",
       " '548': 'Coopxtra Premium - Quận 7',\n",
       " '130': 'Co.opmart Rạch Miễu - Phú Nhuận',\n",
       " '133': 'Co.opmart Nhiêu Lộc - Quận 3',\n",
       " '134': 'Co.opmart Tuy Lý Vương - Quận 8',\n",
       " '135': 'Co.opmart Hùng Vương - Quận 5',\n",
       " '136': 'Co.opmart Bình Tân - Bình Tân',\n",
       " '141': 'Co.opmart Nguyễn Ảnh Thủ - Quận 12',\n",
       " '151': 'Co.opmart Cống Quỳnh - Quận 1',\n",
       " '152': 'Co.opmart Hóc Môn - Hóc Môn',\n",
       " '153': 'Co.opmart Hậu Giang - Quận 6',\n",
       " '154': 'Co.opmart Phú Thọ - Quận 11',\n",
       " '155': 'Co.opmart Nguyễn Đình Chiểu - Quận 3',\n",
       " '157': 'Co.opmart Phú Lâm - Quận 6',\n",
       " '158': 'Co.opmart Phan Văn Hớn - Quận 12',\n",
       " '159': 'Co.opmart Huỳnh Tấn Phát - Quận 7',\n",
       " '160': 'Co.opmart Nguyễn Kiệm - Phú Nhuận',\n",
       " '161': 'Co.opmart Xa Lộ Hà Nội - Quận 9',\n",
       " '162': 'Co.opmart Phan Văn Trị - Gò Vấp',\n",
       " '175': 'Co.opmart Củ Chi - Củ Chi',\n",
       " '178': 'Co.opmart Hòa Bình - Tân Phú',\n",
       " '180': 'Co.opmart Cần Giờ - Cần Giờ',\n",
       " '186': 'Co.opmart Bình Triệu - Thủ Đức',\n",
       " '196': 'Co.opmart Foodcosa - Gò Vấp',\n",
       " '505': 'Co.opmart Lý Thường Kiệt - Quận 10',\n",
       " '506': 'Co.opmart Văn Thánh - Bình Thạnh',\n",
       " '508': 'Co.opmart Nguyễn Bình - Nhà Bè',\n",
       " '509': 'Co.opmart Vĩnh Lộc B - Bình Chánh',\n",
       " '510': 'Co.opmart Đỗ Văn Dậy - Hóc Môn',\n",
       " '511': 'Co.opmart Hiệp Thành - Quận 12',\n",
       " '524': 'Co.opmart Đồng Văn Cống - Quận 2',\n",
       " '530': 'Co.opmart Chu Văn An - Bình Thạnh',\n",
       " '541': 'Co.opmart Bình Tân 2 - Bình Tân',\n",
       " '556': 'Co.opmart Tô Ký - Quận 12',\n",
       " '565': 'Co.opmart Tam Bình - Thủ Đức',\n",
       " '570': 'Co.opmart Thắng Lợi - Tân Phú',\n",
       " '549': 'Co.opmart SCA Hoàng Văn Thụ - Tân Bình',\n",
       " '560': 'Co.opmart SCA Phạm Văn Chiêu - Gò Vấp',\n",
       " '559': 'Co.opmart SCA Âu Cơ - Tân Bình',\n",
       " '561': 'Co.opmart SCA Cao Thắng - Quận 10',\n",
       " '112': 'Co.opmart Quy Nhơn- Bình Định',\n",
       " '122': 'Co.opmart Tuy Hòa - Phú Yên',\n",
       " '128': 'Co.opmart Đà Nẵng - Đà Nẵng',\n",
       " '547': 'Co.opmart Sơn Trà - Đà Nẵng',\n",
       " '145': 'Co.opmart Quảng Ngãi - Quảng Ngãi',\n",
       " '521': 'Co.opmart Đức Phổ - Quảng Ngãi',\n",
       " '137': 'Co.opmart Huế',\n",
       " '512': 'Co.opmart Quảng Bình',\n",
       " '132': 'Co.opmart Tam Kỳ - Quảng Nam',\n",
       " '140': 'Co.opmart Nha Trang - Khánh Hòa',\n",
       " '167': 'Co.opmart Đông Hà - Quảng Trị',\n",
       " '501': 'Co.opmart An Nhơn',\n",
       " '148': 'Co.opmart Thanh Hà - Phan Rang',\n",
       " '174': 'Co.opmart Cam Ranh, Khánh Hòa',\n",
       " '114': 'Co.opmart Mỹ Tho - Tiền Giang',\n",
       " '119': 'Co.opmart Long Xuyên - An Giang',\n",
       " '532': 'Co.opmart Cai Lậy - Tiền Giang',\n",
       " '533': 'Co.opmart Hồng Ngự - Đồng Tháp',\n",
       " '199': 'Co.opmart Bến Tre',\n",
       " '170': 'Co.opmart Trà Vinh',\n",
       " '518': 'Co.opmart Gò Công - Tiền Giang',\n",
       " '545': 'Co.opmart Tiểu Cần - Trà Vinh',\n",
       " '514': 'Co.opmart Tân An - Long An',\n",
       " '184': 'Co.opmart Rạch Giá',\n",
       " '144': 'Co.opmart Kiên Giang',\n",
       " '531': 'Co.opmart Hà Tiên',\n",
       " '542': 'Co.opmart Bình Thủy',\n",
       " '187': 'Co.opmart Cần Thơ',\n",
       " '519': 'Co.opmart Thốt Nốt',\n",
       " '522': 'Co.opmart Cà Mau',\n",
       " '171': 'Co.opmart Ngã Bảy Hậu Giang',\n",
       " '121': 'Co.opmart Vị Thanh',\n",
       " '147': 'Co.opmart Sóc Trăng',\n",
       " '562': 'Co.opmart Thoại Sơn',\n",
       " '520': 'Co.opmart Châu Đốc',\n",
       " '535': 'Co.opmart Tân Châu - An Giang',\n",
       " '142': 'Co.opmart Bạc Liêu',\n",
       " '120': 'Co.opmart Vĩnh Long',\n",
       " '540': 'Co.opmart Cần Giuộc',\n",
       " '513': 'Co.opmart Bến Lức',\n",
       " '517': 'Co.opmart Sa Đéc',\n",
       " '536': 'Co.opmart Duyên Hải - Trà Vinh',\n",
       " '569': 'Co.opmart Tháp Mười',\n",
       " '197': 'Co.opmart Cao Lãnh',\n",
       " '150': 'Co.opmart Hà Tĩnh',\n",
       " '164': 'Co.opmart Sài Gòn, TP. Hà Nội',\n",
       " '183': 'Co.opmart Hải Phòng',\n",
       " '185': 'Co.opmart Thanh Hóa',\n",
       " '555': 'Co.opmart SCA Long Biên',\n",
       " '502': 'Co.opmart Bắc Giang',\n",
       " '525': 'Co.opmart Nam Định',\n",
       " '552': 'Co.opmart SCA Victoria',\n",
       " '179': 'Co.opmart Vĩnh Phúc',\n",
       " '537': 'Co.opmart Việt Trì',\n",
       " '554': 'Co.opmart SCA GoldenSilk',\n",
       " '553': 'Co.opmart SCA GoldSilk',\n",
       " '516': 'Co.opmart Bình Dương',\n",
       " '503': 'Co.opmart Bình Dương 2',\n",
       " '124': 'Co.opmart Biên Hoà',\n",
       " '131': 'Co.opmart Vũng Tàu ',\n",
       " '118': 'Co.opmart Phan Thiết',\n",
       " '176': 'Co.opmart Tây Ninh',\n",
       " '543': 'Co.opmart Châu Thành - TN',\n",
       " '529': 'Co.opmart Tân Thành',\n",
       " '515': 'Co.opmart Bà Rịa',\n",
       " '127': 'Co.opmart Đồng Xoài',\n",
       " '546': 'Co.opmart Đồng Phú',\n",
       " '507': 'Co.opmart Lagi',\n",
       " '539': 'Co.opmart Phan Rí Cửa',\n",
       " '534': 'Co.opmart Gò Dầu',\n",
       " '526': 'Co.opmart Tân Châu',\n",
       " '538': 'Co.opmart Phước Đông',\n",
       " '189': 'Co.opmart Trảng Bàng',\n",
       " '563': 'Co.opmart Tân Biên',\n",
       " '564': 'Co.opmart Dương Minh Châu',\n",
       " '504': 'Co.opmart Đắk Nông',\n",
       " '123': 'Co.opmart Pleiku',\n",
       " '138': 'Co.opmart Buôn Ma Thuột',\n",
       " '523': 'Co.opmart Buôn Hồ',\n",
       " '527': 'Co.opmart Chư Sê',\n",
       " '528': 'Co.opmart Kon Tum',\n",
       " '173': 'Co.opmart Bảo Lộc',\n",
       " '566': 'Co.opmart Cư M Gar',\n",
       " '399': 'Finelife supermarket Urban Hill',\n",
       " '4201': 'Finelife Foodstore Hà Đô',\n",
       " '4202': 'Finelife Riviera Point',\n",
       " '4203': 'Finelife SaigonMia'}"
      ]
     },
     "execution_count": 97,
     "metadata": {},
     "output_type": "execute_result"
    }
   ],
   "source": [
    "dict(store_list[['id','ten']].values)"
   ]
  },
  {
   "cell_type": "code",
   "execution_count": null,
   "id": "0635313f",
   "metadata": {},
   "outputs": [],
   "source": []
  }
 ],
 "metadata": {
  "kernelspec": {
   "display_name": "Python 3 (ipykernel)",
   "language": "python",
   "name": "python3"
  },
  "language_info": {
   "codemirror_mode": {
    "name": "ipython",
    "version": 3
   },
   "file_extension": ".py",
   "mimetype": "text/x-python",
   "name": "python",
   "nbconvert_exporter": "python",
   "pygments_lexer": "ipython3",
   "version": "3.7.5"
  }
 },
 "nbformat": 4,
 "nbformat_minor": 5
}
