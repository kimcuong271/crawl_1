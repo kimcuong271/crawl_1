{
 "cells": [
  {
   "cell_type": "code",
   "execution_count": 70,
   "id": "25edef03",
   "metadata": {},
   "outputs": [],
   "source": [
    "import requests\n",
    "import pandas as pd\n",
    "import time"
   ]
  },
  {
   "cell_type": "code",
   "execution_count": 5,
   "id": "629330b1",
   "metadata": {},
   "outputs": [],
   "source": [
    "headers = {\n",
    "    'User-Agent': 'Mozilla/5.0 (Windows NT 6.1; WOW64; rv:28.0) Gecko/20100101 Firefox/28.0',\n",
    "    'Accept': 'application/json, text/javascript, */*; q=0.01',\n",
    "    'Content-Type': 'application/x-www-form-urlencoded; charset=UTF-8'\n",
    "}"
   ]
  },
  {
   "cell_type": "code",
   "execution_count": 8,
   "id": "c7914e1d",
   "metadata": {},
   "outputs": [],
   "source": [
    "resp = requests.get('https://dev-mobileapp.bigc.vn/api/store/get-list-store?apiclientid=3693146&token=a09fcbfe4ec1edb8f3b2214076a3093d&sign=1f664a32aa64aa3f66fa44da534ef139',headers=headers)"
   ]
  },
  {
   "cell_type": "code",
   "execution_count": 15,
   "id": "87d89ff8",
   "metadata": {},
   "outputs": [],
   "source": [
    "store_data = pd.DataFrame(resp.json()['message'])"
   ]
  },
  {
   "cell_type": "code",
   "execution_count": 16,
   "id": "3869c490",
   "metadata": {},
   "outputs": [],
   "source": [
    "store_data.to_csv('bigc_store_data.csv')"
   ]
  },
  {
   "cell_type": "code",
   "execution_count": 36,
   "id": "fe3e8076",
   "metadata": {},
   "outputs": [],
   "source": [
    "resp = requests.get('https://dev-mobileapp.bigc.vn/api/order2/ListCategory?apiclientid=3693146&token=a09fcbfe4ec1edb8f3b2214076a3093d&sign=1f664a32aa64aa3f66fa44da534ef139&page=2&store=108',headers=headers)"
   ]
  },
  {
   "cell_type": "code",
   "execution_count": 37,
   "id": "8c647b1e",
   "metadata": {},
   "outputs": [],
   "source": [
    "category_info = pd.DataFrame(resp.json()['products'])"
   ]
  },
  {
   "cell_type": "code",
   "execution_count": 38,
   "id": "b530d451",
   "metadata": {},
   "outputs": [],
   "source": [
    "category_info.to_csv('bigc_category_data.csv',mode='a',header=None,encoding='utf-8-sig')"
   ]
  },
  {
   "cell_type": "code",
   "execution_count": 54,
   "id": "fdb9f8bc",
   "metadata": {},
   "outputs": [],
   "source": [
    "pay_load = {\"category\":7,\"hourDelivery\":0,\"page\":9,\"store\":108}\n",
    "resp = requests.post('https://dev-mobileapp.bigc.vn/api/order2/listProduct?apiclientid=3693146&token=a09fcbfe4ec1edb8f3b2214076a3093d&sign=1f664a32aa64aa3f66fa44da534ef139',headers=headers,data = pay_load)"
   ]
  },
  {
   "cell_type": "code",
   "execution_count": 62,
   "id": "890c76a6",
   "metadata": {},
   "outputs": [
    {
     "data": {
      "text/plain": [
       "{'total_pages': 9, 'page_size': 15, 'current_page': 9}"
      ]
     },
     "execution_count": 62,
     "metadata": {},
     "output_type": "execute_result"
    }
   ],
   "source": [
    "resp.json()['pagination']"
   ]
  },
  {
   "cell_type": "code",
   "execution_count": 72,
   "id": "46a2f739",
   "metadata": {},
   "outputs": [],
   "source": [
    "store_id = 108\n",
    "cate_list = category_info['id']\n",
    "product = pd.DataFrame()\n",
    "for cate in cate_list:\n",
    "    start_page = 1\n",
    "    pay_load = {\"category\":int(cate),\"hourDelivery\":0,\"page\":start_page,\"store\":int(store_id)}\n",
    "    resp = requests.post('https://dev-mobileapp.bigc.vn/api/order2/listProduct?apiclientid=3693146&token=a09fcbfe4ec1edb8f3b2214076a3093d&sign=1f664a32aa64aa3f66fa44da534ef139',headers=headers,data = pay_load)\n",
    "    df_tmp = pd.DataFrame(resp.json()['products'])\n",
    "    last_page = resp.json()['pagination']['total_pages']\n",
    "    product = pd.concat([product,df_tmp])\n",
    "    if start_page < last_page:\n",
    "        start_page = start_page+1\n",
    "    try:\n",
    "        for next_page in range(start_page,last_page+1,1):\n",
    "            pay_load = {\"category\":int(cate),\"hourDelivery\":0,\"page\":start_page,\"store\":int(store_id)}\n",
    "            resp = requests.post('https://dev-mobileapp.bigc.vn/api/order2/listProduct?apiclientid=3693146&token=a09fcbfe4ec1edb8f3b2214076a3093d&sign=1f664a32aa64aa3f66fa44da534ef139',headers=headers,data = pay_load)\n",
    "            df_tmp = pd.DataFrame(resp.json()['products'])\n",
    "            product = pd.concat([product,df_tmp])\n",
    "    except:\n",
    "        print(f'error on {cate}, payload: {pay_load}')\n",
    "        time.sleep(5)\n",
    "        continue\n",
    "product.to_csv('big_product.csv',encoding='utf-8-sig')"
   ]
  },
  {
   "cell_type": "code",
   "execution_count": 69,
   "id": "893ffdd1",
   "metadata": {},
   "outputs": [
    {
     "data": {
      "text/plain": [
       "{'category': 21, 'hourDelivery': 0, 'page': 2, 'store': 108}"
      ]
     },
     "execution_count": 69,
     "metadata": {},
     "output_type": "execute_result"
    }
   ],
   "source": [
    "pay_load"
   ]
  },
  {
   "cell_type": "code",
   "execution_count": null,
   "id": "ccd7c73b",
   "metadata": {},
   "outputs": [],
   "source": []
  }
 ],
 "metadata": {
  "kernelspec": {
   "display_name": "Python 3 (ipykernel)",
   "language": "python",
   "name": "python3"
  },
  "language_info": {
   "codemirror_mode": {
    "name": "ipython",
    "version": 3
   },
   "file_extension": ".py",
   "mimetype": "text/x-python",
   "name": "python",
   "nbconvert_exporter": "python",
   "pygments_lexer": "ipython3",
   "version": "3.7.5"
  }
 },
 "nbformat": 4,
 "nbformat_minor": 5
}
